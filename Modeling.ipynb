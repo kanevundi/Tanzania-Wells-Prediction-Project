{
 "cells": [
  {
   "attachments": {},
   "cell_type": "markdown",
   "metadata": {},
   "source": [
    "# Modeling"
   ]
  },
  {
   "cell_type": "code",
   "execution_count": 233,
   "metadata": {},
   "outputs": [],
   "source": [
    "# importing necessary libraries\n",
    "import pandas as pd\n",
    "import matplotlib.pyplot as plt\n",
    "import seaborn as sns; sns.set()\n",
    "%matplotlib inline\n",
    "\n",
    "import pandas as pd\n",
    "import numpy as np\n",
    "\n",
    "from sklearn.tree import DecisionTreeClassifier\n",
    "from sklearn.ensemble import RandomForestClassifier, ExtraTreesClassifier\n",
    "from sklearn.linear_model import LogisticRegression\n",
    "from sklearn.dummy import DummyClassifier\n",
    "from sklearn.svm import SVC\n",
    "from sklearn.neighbors import KNeighborsClassifier\n",
    "from sklearn.naive_bayes import GaussianNB\n",
    "from sklearn.preprocessing import KBinsDiscretizer, FunctionTransformer,RobustScaler,StandardScaler\n",
    "from sklearn.model_selection import cross_val_score\n",
    "from sklearn.model_selection import cross_validate\n",
    "from sklearn.preprocessing import LabelEncoder, OneHotEncoder\n",
    "from sklearn.pipeline import make_pipeline, Pipeline\n",
    "\n",
    "from sklearn.model_selection import GridSearchCV, train_test_split\n",
    "from sklearn.metrics import roc_auc_score\n",
    "from sklearn.metrics import accuracy_score, precision_score, recall_score, f1_score\n",
    "\n",
    "from sklearn.metrics import confusion_matrix, classification_report\n",
    "\n",
    "from sklearn.datasets import make_classification\n",
    "from sklearn.model_selection import train_test_split, GridSearchCV\n",
    "\n",
    "import warnings\n",
    "warnings.filterwarnings(\"ignore\")"
   ]
  },
  {
   "cell_type": "code",
   "execution_count": 234,
   "metadata": {},
   "outputs": [
    {
     "data": {
      "text/html": [
       "<div>\n",
       "<style scoped>\n",
       "    .dataframe tbody tr th:only-of-type {\n",
       "        vertical-align: middle;\n",
       "    }\n",
       "\n",
       "    .dataframe tbody tr th {\n",
       "        vertical-align: top;\n",
       "    }\n",
       "\n",
       "    .dataframe thead th {\n",
       "        text-align: right;\n",
       "    }\n",
       "</style>\n",
       "<table border=\"1\" class=\"dataframe\">\n",
       "  <thead>\n",
       "    <tr style=\"text-align: right;\">\n",
       "      <th></th>\n",
       "      <th>amount_tsh</th>\n",
       "      <th>date_recorded</th>\n",
       "      <th>gps_height</th>\n",
       "      <th>basin</th>\n",
       "      <th>region</th>\n",
       "      <th>local_government_area</th>\n",
       "      <th>population</th>\n",
       "      <th>permit</th>\n",
       "      <th>construction_year</th>\n",
       "      <th>extraction_type_class</th>\n",
       "      <th>management_group</th>\n",
       "      <th>payment_type</th>\n",
       "      <th>water_quality</th>\n",
       "      <th>quantity</th>\n",
       "      <th>source_type</th>\n",
       "      <th>waterpoint_type</th>\n",
       "      <th>status_group</th>\n",
       "      <th>construction_decade</th>\n",
       "    </tr>\n",
       "  </thead>\n",
       "  <tbody>\n",
       "    <tr>\n",
       "      <th>0</th>\n",
       "      <td>6000.0</td>\n",
       "      <td>2011-03-14</td>\n",
       "      <td>1390</td>\n",
       "      <td>Lake Nyasa</td>\n",
       "      <td>Iringa</td>\n",
       "      <td>Ludewa</td>\n",
       "      <td>109</td>\n",
       "      <td>False</td>\n",
       "      <td>1999</td>\n",
       "      <td>gravity</td>\n",
       "      <td>user-group</td>\n",
       "      <td>annually</td>\n",
       "      <td>soft</td>\n",
       "      <td>enough</td>\n",
       "      <td>spring</td>\n",
       "      <td>communal standpipe</td>\n",
       "      <td>functional</td>\n",
       "      <td>1990s (1990-1999)</td>\n",
       "    </tr>\n",
       "    <tr>\n",
       "      <th>1</th>\n",
       "      <td>0.0</td>\n",
       "      <td>2013-03-06</td>\n",
       "      <td>1399</td>\n",
       "      <td>Lake Victoria</td>\n",
       "      <td>Mara</td>\n",
       "      <td>Serengeti</td>\n",
       "      <td>280</td>\n",
       "      <td>True</td>\n",
       "      <td>2010</td>\n",
       "      <td>gravity</td>\n",
       "      <td>user-group</td>\n",
       "      <td>never pay</td>\n",
       "      <td>soft</td>\n",
       "      <td>insufficient</td>\n",
       "      <td>rainwater harvesting</td>\n",
       "      <td>communal standpipe</td>\n",
       "      <td>functional</td>\n",
       "      <td>2000s (2000-2009)</td>\n",
       "    </tr>\n",
       "    <tr>\n",
       "      <th>2</th>\n",
       "      <td>25.0</td>\n",
       "      <td>2013-02-25</td>\n",
       "      <td>686</td>\n",
       "      <td>Pangani</td>\n",
       "      <td>Manyara</td>\n",
       "      <td>Simanjiro</td>\n",
       "      <td>250</td>\n",
       "      <td>True</td>\n",
       "      <td>2009</td>\n",
       "      <td>gravity</td>\n",
       "      <td>user-group</td>\n",
       "      <td>per bucket</td>\n",
       "      <td>soft</td>\n",
       "      <td>enough</td>\n",
       "      <td>dam</td>\n",
       "      <td>communal standpipe multiple</td>\n",
       "      <td>functional</td>\n",
       "      <td>2000s (2000-2009)</td>\n",
       "    </tr>\n",
       "    <tr>\n",
       "      <th>3</th>\n",
       "      <td>0.0</td>\n",
       "      <td>2013-01-28</td>\n",
       "      <td>263</td>\n",
       "      <td>Ruvuma / Southern Coast</td>\n",
       "      <td>Mtwara</td>\n",
       "      <td>Nanyumbu</td>\n",
       "      <td>58</td>\n",
       "      <td>True</td>\n",
       "      <td>1986</td>\n",
       "      <td>submersible</td>\n",
       "      <td>user-group</td>\n",
       "      <td>never pay</td>\n",
       "      <td>soft</td>\n",
       "      <td>dry</td>\n",
       "      <td>borehole</td>\n",
       "      <td>communal standpipe multiple</td>\n",
       "      <td>non functional</td>\n",
       "      <td>1980s (1980-1989)</td>\n",
       "    </tr>\n",
       "    <tr>\n",
       "      <th>4</th>\n",
       "      <td>0.0</td>\n",
       "      <td>2011-07-13</td>\n",
       "      <td>0</td>\n",
       "      <td>Lake Victoria</td>\n",
       "      <td>Kagera</td>\n",
       "      <td>Karagwe</td>\n",
       "      <td>0</td>\n",
       "      <td>True</td>\n",
       "      <td>0</td>\n",
       "      <td>gravity</td>\n",
       "      <td>other</td>\n",
       "      <td>never pay</td>\n",
       "      <td>soft</td>\n",
       "      <td>seasonal</td>\n",
       "      <td>rainwater harvesting</td>\n",
       "      <td>communal standpipe</td>\n",
       "      <td>functional</td>\n",
       "      <td>Unknown</td>\n",
       "    </tr>\n",
       "  </tbody>\n",
       "</table>\n",
       "</div>"
      ],
      "text/plain": [
       "   amount_tsh date_recorded  gps_height                    basin   region  \\\n",
       "0      6000.0    2011-03-14        1390               Lake Nyasa   Iringa   \n",
       "1         0.0    2013-03-06        1399            Lake Victoria     Mara   \n",
       "2        25.0    2013-02-25         686                  Pangani  Manyara   \n",
       "3         0.0    2013-01-28         263  Ruvuma / Southern Coast   Mtwara   \n",
       "4         0.0    2011-07-13           0            Lake Victoria   Kagera   \n",
       "\n",
       "  local_government_area  population  permit  construction_year  \\\n",
       "0                Ludewa         109   False               1999   \n",
       "1             Serengeti         280    True               2010   \n",
       "2             Simanjiro         250    True               2009   \n",
       "3              Nanyumbu          58    True               1986   \n",
       "4               Karagwe           0    True                  0   \n",
       "\n",
       "  extraction_type_class management_group payment_type water_quality  \\\n",
       "0               gravity       user-group     annually          soft   \n",
       "1               gravity       user-group    never pay          soft   \n",
       "2               gravity       user-group   per bucket          soft   \n",
       "3           submersible       user-group    never pay          soft   \n",
       "4               gravity            other    never pay          soft   \n",
       "\n",
       "       quantity           source_type              waterpoint_type  \\\n",
       "0        enough                spring           communal standpipe   \n",
       "1  insufficient  rainwater harvesting           communal standpipe   \n",
       "2        enough                   dam  communal standpipe multiple   \n",
       "3           dry              borehole  communal standpipe multiple   \n",
       "4      seasonal  rainwater harvesting           communal standpipe   \n",
       "\n",
       "     status_group construction_decade  \n",
       "0      functional   1990s (1990-1999)  \n",
       "1      functional   2000s (2000-2009)  \n",
       "2      functional   2000s (2000-2009)  \n",
       "3  non functional   1980s (1980-1989)  \n",
       "4      functional             Unknown  "
      ]
     },
     "execution_count": 234,
     "metadata": {},
     "output_type": "execute_result"
    }
   ],
   "source": [
    "df_model = pd.read_csv('./Data/clean_data.csv', index_col=0)\n",
    "df_model.head()"
   ]
  },
  {
   "cell_type": "code",
   "execution_count": 235,
   "metadata": {},
   "outputs": [],
   "source": [
    "categorical_cols = ['region', 'extraction_type_class', 'management_group', 'quantity', 'water_quality' , 'waterpoint_type', 'source_type', 'status_group' ]"
   ]
  },
  {
   "cell_type": "code",
   "execution_count": 236,
   "metadata": {},
   "outputs": [],
   "source": [
    "# Create an instance of LabelEncoder\n",
    "encoder = LabelEncoder()\n",
    "\n",
    "# Encode the categorical columns in the DataFrame\n",
    "for col in categorical_cols:\n",
    "    df_model[col] = encoder.fit_transform(df_model[col])\n",
    "\n",
    "# covert categorical columns to objects\n",
    "for col in categorical_cols:\n",
    "    df_model[col] = df_model[col].astype(object)\n",
    "# convert permit to object\n",
    "df_model['permit'] = df_model['permit'].astype(object)"
   ]
  },
  {
   "cell_type": "code",
   "execution_count": 237,
   "metadata": {},
   "outputs": [
    {
     "data": {
      "text/html": [
       "<div>\n",
       "<style scoped>\n",
       "    .dataframe tbody tr th:only-of-type {\n",
       "        vertical-align: middle;\n",
       "    }\n",
       "\n",
       "    .dataframe tbody tr th {\n",
       "        vertical-align: top;\n",
       "    }\n",
       "\n",
       "    .dataframe thead th {\n",
       "        text-align: right;\n",
       "    }\n",
       "</style>\n",
       "<table border=\"1\" class=\"dataframe\">\n",
       "  <thead>\n",
       "    <tr style=\"text-align: right;\">\n",
       "      <th></th>\n",
       "      <th>amount_tsh</th>\n",
       "      <th>date_recorded</th>\n",
       "      <th>gps_height</th>\n",
       "      <th>basin</th>\n",
       "      <th>region</th>\n",
       "      <th>local_government_area</th>\n",
       "      <th>population</th>\n",
       "      <th>permit</th>\n",
       "      <th>construction_year</th>\n",
       "      <th>extraction_type_class</th>\n",
       "      <th>management_group</th>\n",
       "      <th>payment_type</th>\n",
       "      <th>water_quality</th>\n",
       "      <th>quantity</th>\n",
       "      <th>source_type</th>\n",
       "      <th>waterpoint_type</th>\n",
       "      <th>status_group</th>\n",
       "      <th>construction_decade</th>\n",
       "    </tr>\n",
       "  </thead>\n",
       "  <tbody>\n",
       "    <tr>\n",
       "      <th>0</th>\n",
       "      <td>6000.0</td>\n",
       "      <td>2011-03-14</td>\n",
       "      <td>1390</td>\n",
       "      <td>Lake Nyasa</td>\n",
       "      <td>3</td>\n",
       "      <td>Ludewa</td>\n",
       "      <td>109</td>\n",
       "      <td>False</td>\n",
       "      <td>1999</td>\n",
       "      <td>0</td>\n",
       "      <td>4</td>\n",
       "      <td>annually</td>\n",
       "      <td>6</td>\n",
       "      <td>1</td>\n",
       "      <td>6</td>\n",
       "      <td>1</td>\n",
       "      <td>0</td>\n",
       "      <td>1990s (1990-1999)</td>\n",
       "    </tr>\n",
       "    <tr>\n",
       "      <th>1</th>\n",
       "      <td>0.0</td>\n",
       "      <td>2013-03-06</td>\n",
       "      <td>1399</td>\n",
       "      <td>Lake Victoria</td>\n",
       "      <td>9</td>\n",
       "      <td>Serengeti</td>\n",
       "      <td>280</td>\n",
       "      <td>True</td>\n",
       "      <td>2010</td>\n",
       "      <td>0</td>\n",
       "      <td>4</td>\n",
       "      <td>never pay</td>\n",
       "      <td>6</td>\n",
       "      <td>2</td>\n",
       "      <td>3</td>\n",
       "      <td>1</td>\n",
       "      <td>0</td>\n",
       "      <td>2000s (2000-2009)</td>\n",
       "    </tr>\n",
       "    <tr>\n",
       "      <th>2</th>\n",
       "      <td>25.0</td>\n",
       "      <td>2013-02-25</td>\n",
       "      <td>686</td>\n",
       "      <td>Pangani</td>\n",
       "      <td>8</td>\n",
       "      <td>Simanjiro</td>\n",
       "      <td>250</td>\n",
       "      <td>True</td>\n",
       "      <td>2009</td>\n",
       "      <td>0</td>\n",
       "      <td>4</td>\n",
       "      <td>per bucket</td>\n",
       "      <td>6</td>\n",
       "      <td>1</td>\n",
       "      <td>1</td>\n",
       "      <td>2</td>\n",
       "      <td>0</td>\n",
       "      <td>2000s (2000-2009)</td>\n",
       "    </tr>\n",
       "    <tr>\n",
       "      <th>3</th>\n",
       "      <td>0.0</td>\n",
       "      <td>2013-01-28</td>\n",
       "      <td>263</td>\n",
       "      <td>Ruvuma / Southern Coast</td>\n",
       "      <td>12</td>\n",
       "      <td>Nanyumbu</td>\n",
       "      <td>58</td>\n",
       "      <td>True</td>\n",
       "      <td>1986</td>\n",
       "      <td>5</td>\n",
       "      <td>4</td>\n",
       "      <td>never pay</td>\n",
       "      <td>6</td>\n",
       "      <td>0</td>\n",
       "      <td>0</td>\n",
       "      <td>2</td>\n",
       "      <td>1</td>\n",
       "      <td>1980s (1980-1989)</td>\n",
       "    </tr>\n",
       "    <tr>\n",
       "      <th>4</th>\n",
       "      <td>0.0</td>\n",
       "      <td>2011-07-13</td>\n",
       "      <td>0</td>\n",
       "      <td>Lake Victoria</td>\n",
       "      <td>4</td>\n",
       "      <td>Karagwe</td>\n",
       "      <td>0</td>\n",
       "      <td>True</td>\n",
       "      <td>0</td>\n",
       "      <td>0</td>\n",
       "      <td>1</td>\n",
       "      <td>never pay</td>\n",
       "      <td>6</td>\n",
       "      <td>3</td>\n",
       "      <td>3</td>\n",
       "      <td>1</td>\n",
       "      <td>0</td>\n",
       "      <td>Unknown</td>\n",
       "    </tr>\n",
       "  </tbody>\n",
       "</table>\n",
       "</div>"
      ],
      "text/plain": [
       "   amount_tsh date_recorded  gps_height                    basin region  \\\n",
       "0      6000.0    2011-03-14        1390               Lake Nyasa      3   \n",
       "1         0.0    2013-03-06        1399            Lake Victoria      9   \n",
       "2        25.0    2013-02-25         686                  Pangani      8   \n",
       "3         0.0    2013-01-28         263  Ruvuma / Southern Coast     12   \n",
       "4         0.0    2011-07-13           0            Lake Victoria      4   \n",
       "\n",
       "  local_government_area  population permit  construction_year  \\\n",
       "0                Ludewa         109  False               1999   \n",
       "1             Serengeti         280   True               2010   \n",
       "2             Simanjiro         250   True               2009   \n",
       "3              Nanyumbu          58   True               1986   \n",
       "4               Karagwe           0   True                  0   \n",
       "\n",
       "  extraction_type_class management_group payment_type water_quality quantity  \\\n",
       "0                     0                4     annually             6        1   \n",
       "1                     0                4    never pay             6        2   \n",
       "2                     0                4   per bucket             6        1   \n",
       "3                     5                4    never pay             6        0   \n",
       "4                     0                1    never pay             6        3   \n",
       "\n",
       "  source_type waterpoint_type status_group construction_decade  \n",
       "0           6               1            0   1990s (1990-1999)  \n",
       "1           3               1            0   2000s (2000-2009)  \n",
       "2           1               2            0   2000s (2000-2009)  \n",
       "3           0               2            1   1980s (1980-1989)  \n",
       "4           3               1            0             Unknown  "
      ]
     },
     "execution_count": 237,
     "metadata": {},
     "output_type": "execute_result"
    }
   ],
   "source": [
    "df_model.head()"
   ]
  },
  {
   "cell_type": "code",
   "execution_count": 238,
   "metadata": {},
   "outputs": [],
   "source": [
    "df_model.drop(['date_recorded', 'construction_year', 'basin', 'local_government_area', \n",
    "                             'amount_tsh', 'payment_type', 'permit', 'gps_height', 'construction_decade'], axis=1, inplace=True)"
   ]
  },
  {
   "cell_type": "code",
   "execution_count": 239,
   "metadata": {},
   "outputs": [],
   "source": [
    "# split the dataset\n",
    "X = df_model.drop('status_group', axis=1)\n",
    "y = df_model['status_group']\n",
    "\n",
    "X_train, X_test, y_train, y_test = train_test_split(X, y, test_size=0.25, random_state=42)"
   ]
  },
  {
   "cell_type": "code",
   "execution_count": 240,
   "metadata": {},
   "outputs": [],
   "source": [
    "\n",
    "y_train = y_train.astype('int')\n",
    "y_test = y_test.astype('int')"
   ]
  },
  {
   "attachments": {},
   "cell_type": "markdown",
   "metadata": {},
   "source": [
    "### Dummy Classifier"
   ]
  },
  {
   "cell_type": "code",
   "execution_count": 258,
   "metadata": {},
   "outputs": [
    {
     "name": "stdout",
     "output_type": "stream",
     "text": [
      "Classification Report:\n",
      "              precision    recall  f1-score   support\n",
      "\n",
      "           0       0.53      1.00      0.70      7534\n",
      "           1       0.00      0.00      0.00      6552\n",
      "\n",
      "    accuracy                           0.53     14086\n",
      "   macro avg       0.27      0.50      0.35     14086\n",
      "weighted avg       0.29      0.53      0.37     14086\n",
      "\n"
     ]
    }
   ],
   "source": [
    "# Build a pipeline with a StandardScaler and a DummyClassifier\n",
    "dummy_pipe = Pipeline([('scaler', StandardScaler()), \n",
    "                ('dummy', DummyClassifier(random_state=42))])\n",
    "# fit the pipeline to the training set\n",
    "dummy_pipe.fit(X_train, y_train)\n",
    "# make predictions on the test set\n",
    "y_pred_dummy = dummy_pipe.predict(X_test)\n",
    "\n",
    "# Evaluate the performance of the model\n",
    "accuracy = accuracy_score(y_test, y_pred_dummy)\n",
    "precision = precision_score(y_test, y_pred_dummy)\n",
    "recall = recall_score(y_test, y_pred_dummy)\n",
    "f1 = f1_score(y_test, y_pred_dummy)\n",
    "\n",
    "# Generate and print the classification report\n",
    "print(\"Classification Report:\")\n",
    "print(classification_report(y_test, y_pred_dummy))"
   ]
  },
  {
   "cell_type": "code",
   "execution_count": 259,
   "metadata": {},
   "outputs": [
    {
     "data": {
      "image/png": "[encoded data removed]",
      "text/plain": [
       "<Figure size 500x500 with 2 Axes>"
      ]
     },
     "metadata": {},
     "output_type": "display_data"
    }
   ],
   "source": [
    "# plot the confusion matrix\n",
    "plt.figure(figsize=(5,5))\n",
    "sns.heatmap(confusion_matrix(y_test, y_pred_dummy), annot=True, fmt='g');"
   ]
  },
  {
   "attachments": {},
   "cell_type": "markdown",
   "metadata": {},
   "source": [
    "- The precision for class 0 is 0.53, which means that when the dummy classifier predicts an instance as class 0, it is correct around 53% of the time. The recall for class 0 is 1.00, indicating that the classifier is able to identify all instances of class 0 correctly. The f1-score for class 0 is 0.70, which is a weighted average of precision and recall and provides a balance between the two.\n",
    "\n",
    "- However, for class 1, the precision is 0.00, meaning that when the dummy classifier predicts an instance as class 1, it is never correct. The recall for class 1 is also 0.00, indicating that the classifier fails to identify any instances of class 1 correctly. Consequently, the f1-score for class 1 is 0.00, indicating poor performance.\n",
    "\n",
    "- In terms of accuracy, the dummy classifier achieves an accuracy of 0.53, meaning that it correctly predicts the class for around 53% of the instances.\n",
    "\n",
    "- Overall, these results indicate that the dummy classifier performs poorly in predicting class 1, as it never correctly identifies any instances of that class. It performs better in predicting class 0, achieving a reasonable precision and recall."
   ]
  },
  {
   "attachments": {},
   "cell_type": "markdown",
   "metadata": {},
   "source": [
    "### Decision Tree"
   ]
  },
  {
   "cell_type": "code",
   "execution_count": 242,
   "metadata": {},
   "outputs": [
    {
     "name": "stdout",
     "output_type": "stream",
     "text": [
      "Classification Report:\n",
      "              precision    recall  f1-score   support\n",
      "\n",
      "           0       0.73      0.85      0.79      7534\n",
      "           1       0.79      0.64      0.71      6552\n",
      "\n",
      "    accuracy                           0.76     14086\n",
      "   macro avg       0.76      0.75      0.75     14086\n",
      "weighted avg       0.76      0.76      0.75     14086\n",
      "\n"
     ]
    }
   ],
   "source": [
    "# Create a pipeline with a decision tree classifier as the estimator:\n",
    "dt = Pipeline([('scaler', StandardScaler()),\n",
    "                  ('tree', DecisionTreeClassifier(random_state=42))])\n",
    "# fit the pipeline to the training set\n",
    "dt.fit(X_train, y_train)\n",
    "# make predictions on the test set\n",
    "y_pred_dt = dt.predict(X_test)\n",
    "\n",
    "# Generate and print the classification report\n",
    "print(\"Classification Report:\")\n",
    "print(classification_report(y_test, y_pred_dt))\n"
   ]
  },
  {
   "cell_type": "code",
   "execution_count": 243,
   "metadata": {},
   "outputs": [
    {
     "data": {
      "image/png": "[encoded data removed]",
      "text/plain": [
       "<Figure size 500x500 with 2 Axes>"
      ]
     },
     "metadata": {},
     "output_type": "display_data"
    }
   ],
   "source": [
    "# plot the confusion matrix\n",
    "plt.figure(figsize=(5,5))\n",
    "sns.heatmap(confusion_matrix(y_test, y_pred_dt), annot=True, fmt='g');\n"
   ]
  },
  {
   "attachments": {},
   "cell_type": "markdown",
   "metadata": {},
   "source": [
    "- Accuracy: The accuracy score represents the proportion of correctly predicted instances out of the total number of instances. In this case, the decision tree model achieved an accuracy of around 0.76, indicating that it predicted 76% of instances correctly.\n",
    "\n",
    "- Precision: Precision is the ratio of true positive predictions to the total number of positive predictions made by the model. A precision score of 0.79 means that when the model predicts a positive class, it is correct approximately 79% of the time.\n",
    "\n",
    "- Recall: Recall, also known as sensitivity or true positive rate, is the ratio of true positive predictions to the total number of actual positive instances. The recall score of 0.64 suggests that the model identified around 64% of the positive instances correctly.\n",
    "\n",
    "- F1 Score: The F1 score is the harmonic mean of precision and recall, providing a balanced measure of the model's performance. The F1 score of 0.71 indicates a reasonably good balance between precision and recall.\n",
    "\n",
    "These scores suggest that the decision tree model performs better than the dummy classifier in terms of accuracy, precision, recall, and F1 score."
   ]
  },
  {
   "attachments": {},
   "cell_type": "markdown",
   "metadata": {},
   "source": [
    "### Random Forest"
   ]
  },
  {
   "cell_type": "code",
   "execution_count": 251,
   "metadata": {},
   "outputs": [
    {
     "name": "stdout",
     "output_type": "stream",
     "text": [
      "Classification Report:\n",
      "              precision    recall  f1-score   support\n",
      "\n",
      "           0       0.74      0.85      0.79      7534\n",
      "           1       0.79      0.67      0.72      6552\n",
      "\n",
      "    accuracy                           0.76     14086\n",
      "   macro avg       0.77      0.76      0.76     14086\n",
      "weighted avg       0.76      0.76      0.76     14086\n",
      "\n"
     ]
    }
   ],
   "source": [
    "# Create a pipeline with a StandardScaler and a RandomForestClassifier.\n",
    "rf = Pipeline([('scaler', StandardScaler()),\n",
    "                  ('rf', RandomForestClassifier(random_state=42))])\n",
    "# fit the pipeline to the training data\n",
    "rf.fit(X_train, y_train);\n",
    "# make predictions on the test data\n",
    "y_pred_rf = rf.predict(X_test)\n",
    "\n",
    "# Generate and print the classification report\n",
    "print(\"Classification Report:\")\n",
    "print(classification_report(y_test, y_pred_rf))\n"
   ]
  },
  {
   "cell_type": "code",
   "execution_count": 253,
   "metadata": {},
   "outputs": [
    {
     "data": {
      "image/png": "[encoded data removed]",
      "text/plain": [
       "<Figure size 500x500 with 2 Axes>"
      ]
     },
     "metadata": {},
     "output_type": "display_data"
    }
   ],
   "source": [
    "# plot the confusion matrix\n",
    "plt.figure(figsize=(5,5))\n",
    "sns.heatmap(confusion_matrix(y_test, y_pred_rf), annot=True, fmt='g');"
   ]
  },
  {
   "attachments": {},
   "cell_type": "markdown",
   "metadata": {},
   "source": [
    "- Precision: The precision for class 0 is 0.74, indicating that out of all instances predicted as class 0, approximately 74% are actually class 0. The precision for class 1 is 0.79, meaning that out of all instances predicted as class 1, around 79% are actually class 1.\n",
    "\n",
    "- Recall: The recall for class 0 is 0.85, indicating that the model correctly identifies approximately 85% of the instances belonging to class 0. The recall for class 1 is 0.67, meaning that the model correctly identifies around 67% of the instances belonging to class 1.\n",
    "\n",
    "- F1-score: The F1-score combines precision and recall into a single metric. The F1-score for class 0 is 0.79, and for class 1, it is 0.72. The F1-score provides a balanced measure of the model's performance, considering both precision and recall.\n",
    "\n",
    "- Accuracy: The overall accuracy of the model is 0.76, indicating that it correctly predicts approximately 76% of the instances."
   ]
  },
  {
   "attachments": {},
   "cell_type": "markdown",
   "metadata": {},
   "source": [
    "### Support Vector Machine (SVM) classifier"
   ]
  },
  {
   "cell_type": "code",
   "execution_count": 256,
   "metadata": {},
   "outputs": [
    {
     "name": "stdout",
     "output_type": "stream",
     "text": [
      "Classification Report:\n",
      "              precision    recall  f1-score   support\n",
      "\n",
      "           0       0.69      0.90      0.78      7534\n",
      "           1       0.83      0.52      0.64      6552\n",
      "\n",
      "    accuracy                           0.73     14086\n",
      "   macro avg       0.76      0.71      0.71     14086\n",
      "weighted avg       0.75      0.73      0.72     14086\n",
      "\n"
     ]
    }
   ],
   "source": [
    "# Create a pipeline with an SVM classifier as the estimator\n",
    "svm_clf  = Pipeline([('scaler', StandardScaler()),\n",
    "    ('classifier', SVC(random_state=42))\n",
    "])\n",
    "\n",
    "# Fit the pipeline on the training data\n",
    "svm_clf.fit(X_train, y_train)\n",
    "\n",
    "# Make predictions on the test data using the trained pipeline\n",
    "y_pred_svm = svm_clf.predict(X_test)\n",
    "\n",
    "# Generate and print the classification report\n",
    "print(\"Classification Report:\")\n",
    "print(classification_report(y_test, y_pred_svm))"
   ]
  },
  {
   "cell_type": "code",
   "execution_count": 257,
   "metadata": {},
   "outputs": [
    {
     "data": {
      "image/png": "[encoded data removed]",
      "text/plain": [
       "<Figure size 500x500 with 2 Axes>"
      ]
     },
     "metadata": {},
     "output_type": "display_data"
    }
   ],
   "source": [
    "# plot the confusion matrix\n",
    "plt.figure(figsize=(5,5))\n",
    "sns.heatmap(confusion_matrix(y_test, y_pred_svm), annot=True, fmt='g');"
   ]
  },
  {
   "attachments": {},
   "cell_type": "markdown",
   "metadata": {},
   "source": [
    "- Precision: The precision for class 0 is 0.69, indicating that out of all instances predicted as class 0, approximately 69% are actually class 0. The precision for class 1 is 0.83, meaning that out of all instances predicted as class 1, around 83% are actually class 1.\n",
    "\n",
    "- Recall: The recall for class 0 is 0.90, indicating that the model correctly identifies approximately 90% of the instances belonging to class 0. The recall for class 1 is 0.52, meaning that the model correctly identifies around 52% of the instances belonging to class 1.\n",
    "\n",
    "- F1-score: The F1-score combines precision and recall into a single metric. The F1-score for class 0 is 0.78, and for class 1, it is 0.64. The F1-score provides a balanced measure of the model's performance, considering both precision and recall.\n",
    "\n",
    "- Accuracy: The overall accuracy of the model is 0.73, indicating that it correctly predicts approximately 73% of the instances."
   ]
  },
  {
   "attachments": {},
   "cell_type": "markdown",
   "metadata": {},
   "source": [
    "### Decision Tree with GridsearchCV"
   ]
  },
  {
   "cell_type": "code",
   "execution_count": 244,
   "metadata": {},
   "outputs": [
    {
     "name": "stdout",
     "output_type": "stream",
     "text": [
      "Fitting 5 folds for each of 54 candidates, totalling 270 fits\n"
     ]
    }
   ],
   "source": [
    "dt = Pipeline([('scaler', StandardScaler()),\n",
    "                  ('tree', DecisionTreeClassifier(random_state=42))])\n",
    "# create a grid of parameters to test\n",
    "\n",
    "param_grid = [{'tree__max_depth': [16, 18, 20],\n",
    "              'tree__min_samples_split': [4, 6, 8],\n",
    "              'tree__min_samples_leaf': [2, 3, 4],\n",
    "              'tree__criterion': ['gini', 'entropy']}]\n",
    "\n",
    "# create grid with estimators\n",
    "gridsearch = GridSearchCV(dt, param_grid, cv=5, n_jobs=-1, verbose=1)\n",
    "\n",
    "# fit the grid with the data    \n",
    "gridsearch.fit(X_train, y_train);"
   ]
  },
  {
   "cell_type": "code",
   "execution_count": 245,
   "metadata": {},
   "outputs": [
    {
     "data": {
      "text/plain": [
       "0.7962752614889489"
      ]
     },
     "execution_count": 245,
     "metadata": {},
     "output_type": "execute_result"
    }
   ],
   "source": [
    "gridsearch.score(X_train, y_train)"
   ]
  },
  {
   "cell_type": "code",
   "execution_count": 246,
   "metadata": {},
   "outputs": [
    {
     "data": {
      "text/plain": [
       "0.7611103223058355"
      ]
     },
     "execution_count": 246,
     "metadata": {},
     "output_type": "execute_result"
    }
   ],
   "source": [
    "gridsearch.score(X_test, y_test)"
   ]
  },
  {
   "cell_type": "code",
   "execution_count": 247,
   "metadata": {},
   "outputs": [
    {
     "data": {
      "text/plain": [
       "Pipeline(steps=[('scaler', StandardScaler()),\n",
       "                ('tree',\n",
       "                 DecisionTreeClassifier(criterion='entropy', max_depth=18,\n",
       "                                        min_samples_leaf=4, min_samples_split=4,\n",
       "                                        random_state=42))])"
      ]
     },
     "execution_count": 247,
     "metadata": {},
     "output_type": "execute_result"
    }
   ],
   "source": [
    "gridsearch.best_estimator_ "
   ]
  }
 ],
 "metadata": {
  "kernelspec": {
   "display_name": "base",
   "language": "python",
   "name": "python3"
  },
  "language_info": {
   "codemirror_mode": {
    "name": "ipython",
    "version": 3
   },
   "file_extension": ".py",
   "mimetype": "text/x-python",
   "name": "python",
   "nbconvert_exporter": "python",
   "pygments_lexer": "ipython3",
   "version": "3.9.13"
  },
  "orig_nbformat": 4
 },
 "nbformat": 4,
 "nbformat_minor": 2
}
